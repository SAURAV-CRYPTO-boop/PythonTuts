{
  "nbformat": 4,
  "nbformat_minor": 0,
  "metadata": {
    "colab": {
      "name": "Untitled3.ipynb",
      "provenance": [],
      "authorship_tag": "ABX9TyNmROi6AaaAlAG76tnAbr2D",
      "include_colab_link": true
    },
    "kernelspec": {
      "name": "python3",
      "display_name": "Python 3"
    }
  },
  "cells": [
    {
      "cell_type": "markdown",
      "metadata": {
        "id": "view-in-github",
        "colab_type": "text"
      },
      "source": [
        "<a href=\"https://colab.research.google.com/github/SAURAV-CRYPTO-boop/PythonTuts/blob/master/Untitled3.ipynb\" target=\"_parent\"><img src=\"https://colab.research.google.com/assets/colab-badge.svg\" alt=\"Open In Colab\"/></a>"
      ]
    },
    {
      "cell_type": "code",
      "metadata": {
        "id": "W3oukht7SFmp"
      },
      "source": [
        ""
      ],
      "execution_count": null,
      "outputs": []
    },
    {
      "cell_type": "markdown",
      "metadata": {
        "id": "hvdRcGKqSHel"
      },
      "source": [
        "3.From a Given list,find the second highest value from the list.\r\n",
        "\r\n",
        "            Input:[6,5,2,1,6,4]   Output: 5"
      ]
    },
    {
      "cell_type": "code",
      "metadata": {
        "colab": {
          "base_uri": "https://localhost:8080/"
        },
        "id": "apFMEJFYT2Do",
        "outputId": "7b30a67a-769a-43af-99a7-1bfce71e4a1e"
      },
      "source": [
        "print(\"SAURAV KUMAR-EX-3\")\r\n",
        "n=int(input(\"Enter no of elements \"))\r\n",
        "a=[]\r\n",
        "print(\"Enter the elements \")\r\n",
        "for i in range(0,n):\r\n",
        "  x=int(input())\r\n",
        "  a.append(x)\r\n",
        "a.sort(reverse=True)\r\n",
        "if(a[0]==a[1]):\r\n",
        "  print(\"Secon Highest element\",a[2])\r\n",
        "else:\r\n",
        "  print(a[1])\r\n"
      ],
      "execution_count": 16,
      "outputs": [
        {
          "output_type": "stream",
          "text": [
            "SAURAV KUMAR-EX-3\n",
            "Enter no of elements 6\n",
            "Enter the elements \n",
            "6\n",
            "5\n",
            "2\n",
            "1\n",
            "6\n",
            "4\n",
            "Secon Highest element 5\n"
          ],
          "name": "stdout"
        }
      ]
    },
    {
      "cell_type": "markdown",
      "metadata": {
        "id": "uatwU4TAWCUg"
      },
      "source": [
        "4.From the string input,count the special characters,alphabets,digits,lowercase and uppercase characters.\r\n",
        "\r\n",
        "                 Input:Sathyabama 2019 @\r\n",
        "                 Output: Digits: 4  Aplphabets: 10 Special characters: 1 Lowercase: 9  Uppercase: 1"
      ]
    },
    {
      "cell_type": "code",
      "metadata": {
        "colab": {
          "base_uri": "https://localhost:8080/"
        },
        "id": "s8TpoY8NWyBr",
        "outputId": "9684197b-ecdc-4dd4-910d-21ed680607b3"
      },
      "source": [
        "print(\"SAURAV KUMAR-Ex-4\")\r\n",
        "s=input(\"enter the string \")\r\n",
        "U=L=D=A=Sp=k=0\r\n",
        "for i in s:\r\n",
        "  if i.isupper():\r\n",
        "    U+=1\r\n",
        "  elif i.islower():\r\n",
        "    L+=1\r\n",
        "  elif i.isdigit():\r\n",
        "    D+=1\r\n",
        "  elif i.isspace():\r\n",
        "    k=0\r\n",
        "  else:\r\n",
        "    Sp+=1\r\n",
        "print(\"Digits:\",D)\r\n",
        "print(\"Alphabets:\",L+U)\r\n",
        "print(\"Lower:\",L)\r\n",
        "print(\"Upper:\",U)\r\n",
        "print(\"Special characters\",Sp)\r\n"
      ],
      "execution_count": 14,
      "outputs": [
        {
          "output_type": "stream",
          "text": [
            "SAURAV KUMAR-Ex-4\n",
            "enter the string Sathyabama 2019 @\n",
            "Digits: 4\n",
            "Alphabets: 10\n",
            "Lower: 9\n",
            "Upper: 1\n",
            "Special characters 1\n"
          ],
          "name": "stdout"
        }
      ]
    },
    {
      "cell_type": "markdown",
      "metadata": {
        "id": "oEBvRiqtY7AC"
      },
      "source": [
        "5.For given Input String(s) and width(w).Wrap the string into a paragraph of width w.\r\n",
        "\r\n",
        "          Input: \r\n",
        "                s=Sathyabama  w=3\r\n",
        "          \r\n",
        "          Output:\r\n",
        "                  Sat\r\n",
        "                  hya\r\n",
        "                  bam\r\n",
        "                  a"
      ]
    },
    {
      "cell_type": "code",
      "metadata": {
        "colab": {
          "base_uri": "https://localhost:8080/"
        },
        "id": "NgwrQVtCZjKO",
        "outputId": "c9fae54f-8d95-42bb-fedd-1a80d881510d"
      },
      "source": [
        "print(\"SAURAV KUMAR-Ex-5\")\r\n",
        "import textwrap\r\n",
        "s=input(\"Enter the input string: \")\r\n",
        "w=int(input(\"Enter the width: \"))\r\n",
        "print(textwrap.fill(s,w))"
      ],
      "execution_count": 11,
      "outputs": [
        {
          "output_type": "stream",
          "text": [
            "SAURAV KUMAR-Ex-5\n",
            "Enter the input string: Sathyabama\n",
            "Enter the width: 3\n",
            "Sat\n",
            "hya\n",
            "bam\n",
            "a\n"
          ],
          "name": "stdout"
        }
      ]
    }
  ]
}