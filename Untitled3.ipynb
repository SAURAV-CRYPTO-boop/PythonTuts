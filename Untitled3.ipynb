{
  "nbformat": 4,
  "nbformat_minor": 0,
  "metadata": {
    "colab": {
      "name": "Untitled3.ipynb",
      "provenance": [],
      "authorship_tag": "ABX9TyNYvMAgAikWjjcFoXl+afZJ",
      "include_colab_link": true
    },
    "kernelspec": {
      "name": "python3",
      "display_name": "Python 3"
    },
    "language_info": {
      "name": "python"
    }
  },
  "cells": [
    {
      "cell_type": "markdown",
      "metadata": {
        "id": "view-in-github",
        "colab_type": "text"
      },
      "source": [
        "<a href=\"https://colab.research.google.com/github/SAURAV-CRYPTO-boop/PythonTuts/blob/master/Untitled3.ipynb\" target=\"_parent\"><img src=\"https://colab.research.google.com/assets/colab-badge.svg\" alt=\"Open In Colab\"/></a>"
      ]
    },
    {
      "cell_type": "code",
      "metadata": {
        "id": "XpXFctt5fUkt"
      },
      "source": [
        ""
      ],
      "execution_count": null,
      "outputs": []
    },
    {
      "cell_type": "markdown",
      "metadata": {
        "id": "62dNZ6QLfVO-"
      },
      "source": [
        "Ex-6 Print your favourite music artist's name.\n",
        "      \n",
        "      \n",
        "      \n",
        "      \n",
        "       Matrix size must be N*M.(N ia an odd natural number,and M is 3 times N).The design should have name written in the center.\n",
        "\n",
        "    **The design pattern should only use /,,.and-characters.**"
      ]
    },
    {
      "cell_type": "code",
      "metadata": {
        "colab": {
          "base_uri": "https://localhost:8080/"
        },
        "id": "gpZjwUK9gwDb",
        "outputId": "93ff65e5-7887-401f-fdc8-ea5a407efd06"
      },
      "source": [
        "print(\"38110513-SAURAV KUMAR-Ex-6\")\n",
        "n,m=map(int,input().split())\n",
        "pattern=[(',/,'*(2*2+1))]\n",
        "print(pattern)\n",
        "pattern=[(',/,'*(2*i+1)).center(m,'-') for i in range(n//2)]\n",
        "print('\\n'.join(pattern+['Himanshi Khurana'.center(m,'-')]+pattern[::-1]))"
      ],
      "execution_count": null,
      "outputs": [
        {
          "output_type": "stream",
          "text": [
            "38110513-SAURAV KUMAR-Ex-6\n",
            "17 45\n",
            "[',/,,/,,/,,/,,/,']\n",
            "---------------------,/,---------------------\n",
            "------------------,/,,/,,/,------------------\n",
            "---------------,/,,/,,/,,/,,/,---------------\n",
            "------------,/,,/,,/,,/,,/,,/,,/,------------\n",
            "---------,/,,/,,/,,/,,/,,/,,/,,/,,/,---------\n",
            "------,/,,/,,/,,/,,/,,/,,/,,/,,/,,/,,/,------\n",
            "---,/,,/,,/,,/,,/,,/,,/,,/,,/,,/,,/,,/,,/,---\n",
            ",/,,/,,/,,/,,/,,/,,/,,/,,/,,/,,/,,/,,/,,/,,/,\n",
            "---------------Himanshi Khurana--------------\n",
            ",/,,/,,/,,/,,/,,/,,/,,/,,/,,/,,/,,/,,/,,/,,/,\n",
            "---,/,,/,,/,,/,,/,,/,,/,,/,,/,,/,,/,,/,,/,---\n",
            "------,/,,/,,/,,/,,/,,/,,/,,/,,/,,/,,/,------\n",
            "---------,/,,/,,/,,/,,/,,/,,/,,/,,/,---------\n",
            "------------,/,,/,,/,,/,,/,,/,,/,------------\n",
            "---------------,/,,/,,/,,/,,/,---------------\n",
            "------------------,/,,/,,/,------------------\n",
            "---------------------,/,---------------------\n"
          ],
          "name": "stdout"
        }
      ]
    },
    {
      "cell_type": "markdown",
      "metadata": {
        "id": "qNHUfpjBjMkZ"
      },
      "source": [
        "Ex-7 Consider a function f(x)=x3,Input is 'N' list.Each list contains 'M' elements.From the list,find the maximum element\n",
        "   \n",
        "   \n",
        "   \n",
        "    **compute:**\n",
        "   **S=(f(x1)+f(x2)+f(x3)+.....+f(xN)) Modulo Z**"
      ]
    },
    {
      "cell_type": "code",
      "metadata": {
        "colab": {
          "base_uri": "https://localhost:8080/"
        },
        "id": "ClZ-Tfr0kLmp",
        "outputId": "8ddeb43f-33fb-456e-929c-0a6a8f056061"
      },
      "source": [
        "print(\"38110513-SAURAV KUMAR-Ex-7\")\n",
        "N=int(input(\"Enter N:\"))\n",
        "Z=int(input(\"Enter Z:\"))\n",
        "s=0\n",
        "a={}\n",
        "k=1\n",
        "while k<=N:\n",
        "  key=k\n",
        "  print(\"enter numbers in list(\",k,\"):\")\n",
        "  value=[int(x) for x in input().split()]\n",
        "  a[key]=value\n",
        "  k+=1\n",
        "for i in a:\n",
        "  x=max(a[i])\n",
        "  s=s+x**3\n",
        "S=s%Z\n",
        "print(\"S=(f(X1)+f(X2)+f(X3)+...+f(XN)) Modulo Z:\",S)"
      ],
      "execution_count": null,
      "outputs": [
        {
          "output_type": "stream",
          "text": [
            "38110513-SAURAV KUMAR-Ex-7\n",
            "Enter N:3\n",
            "Enter Z:2000\n",
            "enter numbers in list( 1 ):\n",
            "2 5 1\n",
            "enter numbers in list( 2 ):\n",
            "1 2 4 6 8\n",
            "enter numbers in list( 3 ):\n",
            "10 9 11 4 5\n",
            "S=(f(X1)+f(X2)+f(X3)+...+f(XN)) Modulo Z: 1968\n"
          ],
          "name": "stdout"
        }
      ]
    },
    {
      "cell_type": "markdown",
      "metadata": {
        "id": "yV-Me8tJmwp5"
      },
      "source": [
        "Ex-8 Validate the Credit numbers based on the folowing conitions:\n",
        "\n",
        "                                   Begin with 3,7,or 9\n",
        "\n",
        "                                  Contain exactly 20 digits\n",
        "\n",
        "                                Contains only numbers(0 to 9)\n",
        "\n",
        "                     For every 4 digits a hyphen (-) may be included.\n",
        "\n",
        "                            No other special character permitted.\n",
        "\n",
        "                       Must not have 4 or more consecutive same digits "
      ]
    },
    {
      "cell_type": "code",
      "metadata": {
        "colab": {
          "base_uri": "https://localhost:8080/"
        },
        "id": "SxhQuTO2ocw5",
        "outputId": "75b7b46c-dab5-4609-a7a5-5b0cf3b9f768"
      },
      "source": [
        "print(\"38110513-SAURAV KUMAR-Ex-8\")\n",
        "T=int(input('Enetr the number of credit cards to be tested:'))\n",
        "for _ in range(T):\n",
        "  cNum=input()\n",
        "  merge=''.join(cNum.split('-'))\n",
        "  if cNum[0] in ['3','7','9']:\n",
        "    if(len(cNum)==20) or (len(cNum)==23 and cNum.count('-')==3):\n",
        "      if all([len(each)==4 for each in cNum.split('-')]) or cNum.isdigit():\n",
        "        if any(merge.count((i*4))>=1 for i in('0123456789')):\n",
        "          pass\n",
        "        else:\n",
        "          print(\"Valid\")\n",
        "          continue\n",
        "  print(\"Invalid\")"
      ],
      "execution_count": null,
      "outputs": [
        {
          "output_type": "stream",
          "text": [
            "38110513-SAURAV KUMAR-Ex-8\n",
            "Enetr the number of credit cards to be tested:3\n",
            "9542478631554278645\n",
            "Invalid\n",
            "35458844667711225588\n",
            "Valid\n",
            "75757527526272572742\n",
            "Valid\n"
          ],
          "name": "stdout"
        }
      ]
    },
    {
      "cell_type": "markdown",
      "metadata": {
        "id": "AH-FaQc6ipFV"
      },
      "source": [
        ""
      ]
    }
  ]
}